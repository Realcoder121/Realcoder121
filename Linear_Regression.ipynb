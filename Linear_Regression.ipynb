{
  "cells": [
    {
      "cell_type": "markdown",
      "metadata": {
        "id": "view-in-github",
        "colab_type": "text"
      },
      "source": [
        "<a href=\"https://colab.research.google.com/github/Realcoder121/Realcoder121/blob/main/Linear_Regression.ipynb\" target=\"_parent\"><img src=\"https://colab.research.google.com/assets/colab-badge.svg\" alt=\"Open In Colab\"/></a>"
      ]
    },
    {
      "cell_type": "code",
      "execution_count": 1,
      "id": "8a3de37c",
      "metadata": {
        "id": "8a3de37c"
      },
      "outputs": [],
      "source": [
        "import numpy as np\n",
        "import pandas as pd\n",
        "from math import sqrt\n",
        "import matplotlib.pyplot as plt"
      ]
    },
    {
      "cell_type": "code",
      "execution_count": 3,
      "id": "22ef269c",
      "metadata": {
        "id": "22ef269c"
      },
      "outputs": [],
      "source": [
        "def clean_dataset(Df):\n",
        "    train_np = Df.to_numpy()\n",
        "    col = np.shape(train_np)[1]-1\n",
        "    y = train_np[:,col]\n",
        "    x = train_np[:,1:col]\n",
        "    m = np.shape(train_np)[0] #number of training examples\n",
        "    y = y.reshape(m,1)\n",
        "    x = np.concatenate((np.ones((m,1)),x),axis=1)\n",
        "    n = np.shape(x)[1]\n",
        "    # scaling dataset\n",
        "    for i in range(1,n):\n",
        "        mean_col = np.mean(x[:,i])\n",
        "        std_dev_col = np.std(x[:,i])\n",
        "        x[:,i] = (x[:,i]-mean_col)/std_dev_col\n",
        "    return(x,y)"
      ]
    },
    {
      "cell_type": "code",
      "execution_count": 5,
      "id": "0dfd0f1a",
      "metadata": {
        "id": "0dfd0f1a"
      },
      "outputs": [],
      "source": [
        "def grad_desc(x,theta,y):\n",
        "    m,n = np.shape(x)\n",
        "    alpha = 0.01\n",
        "    num = 5000\n",
        "    J = []\n",
        "    for i in range(num):\n",
        "        hyp = np.matmul(x,theta)\n",
        "        J.append((1/2*m)*np.sum(np.square(hyp - y)))\n",
        "        theta -= (alpha/m)*np.matmul(x.T,(hyp - y))\n",
        "    return(theta,J)\n",
        "    "
      ]
    },
    {
      "cell_type": "code",
      "execution_count": 10,
      "id": "69e50933",
      "metadata": {
        "colab": {
          "base_uri": "https://localhost:8080/",
          "height": 641
        },
        "id": "69e50933",
        "outputId": "1542c031-dc13-439e-87bc-5fdfc2dcc6e4"
      },
      "outputs": [
        {
          "output_type": "stream",
          "name": "stdout",
          "text": [
            "[[ 1537.40898405]\n",
            " [  374.84297316]\n",
            " [   57.66355878]\n",
            " [ -780.65390906]\n",
            " [  230.87239175]\n",
            " [ 1068.01409067]\n",
            " [   87.20446456]\n",
            " [  548.72479312]\n",
            " [ -837.63793397]\n",
            " [   34.67370773]\n",
            " [  662.52453914]\n",
            " [  896.38283869]\n",
            " [   86.47649282]\n",
            " [-2631.25005955]\n",
            " [  980.57481622]\n",
            " [ 1301.44464438]\n",
            " [ 1476.95436293]\n",
            " [  693.42415381]\n",
            " [  -29.25523734]\n",
            " [ 2746.11651838]\n",
            " [  723.36220031]]\n"
          ]
        },
        {
          "output_type": "display_data",
          "data": {
            "text/plain": [
              "<Figure size 432x288 with 1 Axes>"
            ],
            "image/png": "[encoded data removed]"
          },
          "metadata": {
            "needs_background": "light"
          }
        }
      ],
      "source": [
        "Df = pd.read_csv(\"/content/drive/MyDrive/ML/Linear_train.csv\")\n",
        "x,y = clean_dataset(Df)\n",
        "n = np.shape(x)[1]\n",
        "theta = np.zeros((n,1)) # initializing theta \n",
        "theta,J_list=grad_desc(x,theta,y) # performing gradient descent on theta\n",
        "print(theta)\n",
        "x = []\n",
        "for i in range(len(J_list)):\n",
        "   x.append(i+1)\n",
        "plt.plot(x,J_list)\n",
        "plt.show()\n"
      ]
    },
    {
      "cell_type": "code",
      "source": [
        "from google.colab import drive\n",
        "drive.mount('/content/drive')"
      ],
      "metadata": {
        "colab": {
          "base_uri": "https://localhost:8080/"
        },
        "id": "9y2RwOpjhBSs",
        "outputId": "37c095ad-d6cb-45ef-c4ce-a3c45a314e17"
      },
      "id": "9y2RwOpjhBSs",
      "execution_count": 7,
      "outputs": [
        {
          "output_type": "stream",
          "name": "stdout",
          "text": [
            "Mounted at /content/drive\n"
          ]
        }
      ]
    },
    {
      "cell_type": "code",
      "execution_count": 11,
      "id": "8107c0ab",
      "metadata": {
        "id": "8107c0ab"
      },
      "outputs": [],
      "source": [
        "def RMSE(y,pred):\n",
        "    t = np.mean(np.square(y - pred))\n",
        "    t = sqrt(t)\n",
        "    return(t)"
      ]
    },
    {
      "cell_type": "code",
      "source": [
        "def Mean_Error(y,pred):\n",
        "  t = np.mean(np.abs(y-pred))\n",
        "  return(t)"
      ],
      "metadata": {
        "id": "poqrvFmRkzyI"
      },
      "id": "poqrvFmRkzyI",
      "execution_count": 12,
      "outputs": []
    },
    {
      "cell_type": "code",
      "execution_count": 15,
      "id": "b5354560",
      "metadata": {
        "colab": {
          "base_uri": "https://localhost:8080/"
        },
        "id": "b5354560",
        "outputId": "87484a26-9cc5-4a57-a76f-bb004c52922d"
      },
      "outputs": [
        {
          "output_type": "stream",
          "name": "stdout",
          "text": [
            "[[ -233.64054661]\n",
            " [ 6422.72630517]\n",
            " [ 2322.77488195]\n",
            " ...\n",
            " [-1498.64989629]\n",
            " [ 1907.98807241]\n",
            " [-6201.64051423]]\n",
            "74.76077433519104\n",
            "71.14879228237875\n"
          ]
        }
      ],
      "source": [
        "Df_test = pd.read_csv(\"/content/drive/MyDrive/ML/Linear_test.csv\")\n",
        "x_test,y_test = clean_dataset(Df_test)\n",
        "pred = np.matmul(x_test,theta)\n",
        "print(pred)\n",
        "#calculate RMSE\n",
        "print(RMSE(y_test,pred)) # root mean squared error\n",
        "print(Mean_Error(y_test,pred)) # mean absolute error\n",
        "\n"
      ]
    },
    {
      "cell_type": "code",
      "execution_count": null,
      "id": "75798c52",
      "metadata": {
        "id": "75798c52"
      },
      "outputs": [],
      "source": [
        ""
      ]
    },
    {
      "cell_type": "code",
      "execution_count": null,
      "id": "292dd2a3",
      "metadata": {
        "id": "292dd2a3"
      },
      "outputs": [],
      "source": [
        ""
      ]
    },
    {
      "cell_type": "code",
      "execution_count": null,
      "id": "c0a953f6",
      "metadata": {
        "id": "c0a953f6"
      },
      "outputs": [],
      "source": [
        ""
      ]
    },
    {
      "cell_type": "code",
      "execution_count": null,
      "id": "cccba398",
      "metadata": {
        "id": "cccba398"
      },
      "outputs": [],
      "source": [
        ""
      ]
    },
    {
      "cell_type": "code",
      "execution_count": null,
      "id": "75d1b207",
      "metadata": {
        "id": "75d1b207"
      },
      "outputs": [],
      "source": [
        ""
      ]
    },
    {
      "cell_type": "code",
      "execution_count": null,
      "id": "ecf7cbac",
      "metadata": {
        "id": "ecf7cbac"
      },
      "outputs": [],
      "source": [
        ""
      ]
    },
    {
      "cell_type": "code",
      "execution_count": null,
      "id": "4c73a4f7",
      "metadata": {
        "id": "4c73a4f7"
      },
      "outputs": [],
      "source": [
        ""
      ]
    },
    {
      "cell_type": "code",
      "execution_count": null,
      "id": "1b4a821f",
      "metadata": {
        "id": "1b4a821f"
      },
      "outputs": [],
      "source": [
        ""
      ]
    },
    {
      "cell_type": "code",
      "execution_count": null,
      "id": "7a9ad804",
      "metadata": {
        "id": "7a9ad804"
      },
      "outputs": [],
      "source": [
        ""
      ]
    },
    {
      "cell_type": "code",
      "execution_count": null,
      "id": "58da3747",
      "metadata": {
        "id": "58da3747"
      },
      "outputs": [],
      "source": [
        ""
      ]
    },
    {
      "cell_type": "code",
      "execution_count": null,
      "id": "3001019e",
      "metadata": {
        "id": "3001019e"
      },
      "outputs": [],
      "source": [
        ""
      ]
    },
    {
      "cell_type": "code",
      "execution_count": null,
      "id": "63e612d7",
      "metadata": {
        "id": "63e612d7"
      },
      "outputs": [],
      "source": [
        ""
      ]
    },
    {
      "cell_type": "code",
      "execution_count": null,
      "id": "bdb94917",
      "metadata": {
        "id": "bdb94917"
      },
      "outputs": [],
      "source": [
        ""
      ]
    },
    {
      "cell_type": "code",
      "execution_count": null,
      "id": "76f36b1f",
      "metadata": {
        "id": "76f36b1f"
      },
      "outputs": [],
      "source": [
        ""
      ]
    },
    {
      "cell_type": "code",
      "execution_count": null,
      "id": "89159177",
      "metadata": {
        "id": "89159177"
      },
      "outputs": [],
      "source": [
        ""
      ]
    },
    {
      "cell_type": "code",
      "execution_count": null,
      "id": "ed1558f2",
      "metadata": {
        "id": "ed1558f2"
      },
      "outputs": [],
      "source": [
        ""
      ]
    },
    {
      "cell_type": "code",
      "execution_count": null,
      "id": "f7ea9dd1",
      "metadata": {
        "id": "f7ea9dd1"
      },
      "outputs": [],
      "source": [
        ""
      ]
    },
    {
      "cell_type": "code",
      "execution_count": null,
      "id": "a8108f99",
      "metadata": {
        "id": "a8108f99"
      },
      "outputs": [],
      "source": [
        ""
      ]
    },
    {
      "cell_type": "code",
      "execution_count": null,
      "id": "eac1050a",
      "metadata": {
        "id": "eac1050a"
      },
      "outputs": [],
      "source": [
        ""
      ]
    },
    {
      "cell_type": "code",
      "execution_count": null,
      "id": "515f6283",
      "metadata": {
        "id": "515f6283"
      },
      "outputs": [],
      "source": [
        ""
      ]
    },
    {
      "cell_type": "code",
      "execution_count": null,
      "id": "8bf157b7",
      "metadata": {
        "id": "8bf157b7"
      },
      "outputs": [],
      "source": [
        ""
      ]
    },
    {
      "cell_type": "code",
      "execution_count": null,
      "id": "c8695467",
      "metadata": {
        "id": "c8695467"
      },
      "outputs": [],
      "source": [
        ""
      ]
    },
    {
      "cell_type": "code",
      "execution_count": null,
      "id": "cbfc6926",
      "metadata": {
        "id": "cbfc6926"
      },
      "outputs": [],
      "source": [
        ""
      ]
    },
    {
      "cell_type": "code",
      "execution_count": null,
      "id": "79d73ece",
      "metadata": {
        "id": "79d73ece"
      },
      "outputs": [],
      "source": [
        ""
      ]
    },
    {
      "cell_type": "code",
      "execution_count": null,
      "id": "84ee08a1",
      "metadata": {
        "id": "84ee08a1"
      },
      "outputs": [],
      "source": [
        ""
      ]
    },
    {
      "cell_type": "code",
      "execution_count": null,
      "id": "3bb12275",
      "metadata": {
        "id": "3bb12275"
      },
      "outputs": [],
      "source": [
        ""
      ]
    },
    {
      "cell_type": "code",
      "execution_count": null,
      "id": "0dd30f72",
      "metadata": {
        "id": "0dd30f72"
      },
      "outputs": [],
      "source": [
        ""
      ]
    },
    {
      "cell_type": "code",
      "execution_count": null,
      "id": "82ecf171",
      "metadata": {
        "id": "82ecf171"
      },
      "outputs": [],
      "source": [
        ""
      ]
    },
    {
      "cell_type": "code",
      "execution_count": null,
      "id": "9036ce69",
      "metadata": {
        "id": "9036ce69"
      },
      "outputs": [],
      "source": [
        ""
      ]
    },
    {
      "cell_type": "code",
      "execution_count": null,
      "id": "716f17f1",
      "metadata": {
        "id": "716f17f1"
      },
      "outputs": [],
      "source": [
        ""
      ]
    },
    {
      "cell_type": "code",
      "execution_count": null,
      "id": "4689e86b",
      "metadata": {
        "id": "4689e86b"
      },
      "outputs": [],
      "source": [
        ""
      ]
    }
  ],
  "metadata": {
    "kernelspec": {
      "display_name": "Python 3 (ipykernel)",
      "language": "python",
      "name": "python3"
    },
    "language_info": {
      "codemirror_mode": {
        "name": "ipython",
        "version": 3
      },
      "file_extension": ".py",
      "mimetype": "text/x-python",
      "name": "python",
      "nbconvert_exporter": "python",
      "pygments_lexer": "ipython3",
      "version": "3.10.1"
    },
    "colab": {
      "name": "Linear_Regression.ipynb",
      "provenance": [],
      "collapsed_sections": [],
      "include_colab_link": true
    }
  },
  "nbformat": 4,
  "nbformat_minor": 5
}